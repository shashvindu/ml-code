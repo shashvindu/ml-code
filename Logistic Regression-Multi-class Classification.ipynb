{
 "cells": [
  {
   "cell_type": "code",
   "execution_count": 1,
   "metadata": {},
   "outputs": [],
   "source": [
    "from sklearn.datasets import load_digits\n",
    "import matplotlib.pyplot as plt"
   ]
  },
  {
   "cell_type": "code",
   "execution_count": 2,
   "metadata": {},
   "outputs": [
    {
     "data": {
      "text/plain": [
       "['DESCR', 'data', 'images', 'target', 'target_names']"
      ]
     },
     "execution_count": 2,
     "metadata": {},
     "output_type": "execute_result"
    }
   ],
   "source": [
    "digits=load_digits()\n",
    "dir(digits)"
   ]
  },
  {
   "cell_type": "code",
   "execution_count": 3,
   "metadata": {},
   "outputs": [
    {
     "data": {
      "image/png": "[encoded data removed]",
      "text/plain": [
       "<Figure size 288x288 with 1 Axes>"
      ]
     },
     "metadata": {
      "needs_background": "light"
     },
     "output_type": "display_data"
    },
    {
     "data": {
      "image/png": "[encoded data removed]",
      "text/plain": [
       "<Figure size 288x288 with 1 Axes>"
      ]
     },
     "metadata": {
      "needs_background": "light"
     },
     "output_type": "display_data"
    },
    {
     "data": {
      "image/png": "[encoded data removed]",
      "text/plain": [
       "<Figure size 288x288 with 1 Axes>"
      ]
     },
     "metadata": {
      "needs_background": "light"
     },
     "output_type": "display_data"
    },
    {
     "data": {
      "image/png": "[encoded data removed]",
      "text/plain": [
       "<Figure size 288x288 with 1 Axes>"
      ]
     },
     "metadata": {
      "needs_background": "light"
     },
     "output_type": "display_data"
    },
    {
     "data": {
      "image/png": "[encoded data removed]",
      "text/plain": [
       "<Figure size 288x288 with 1 Axes>"
      ]
     },
     "metadata": {
      "needs_background": "light"
     },
     "output_type": "display_data"
    },
    {
     "data": {
      "image/png": "[encoded data removed]",
      "text/plain": [
       "<Figure size 288x288 with 1 Axes>"
      ]
     },
     "metadata": {
      "needs_background": "light"
     },
     "output_type": "display_data"
    }
   ],
   "source": [
    "for i in range(6):\n",
    "    plt.matshow(digits.images[i])"
   ]
  },
  {
   "cell_type": "code",
   "execution_count": 4,
   "metadata": {},
   "outputs": [
    {
     "data": {
      "text/plain": [
       "array([ 0.,  0.,  5., 13.,  9.,  1.,  0.,  0.,  0.,  0., 13., 15., 10.,\n",
       "       15.,  5.,  0.,  0.,  3., 15.,  2.,  0., 11.,  8.,  0.,  0.,  4.,\n",
       "       12.,  0.,  0.,  8.,  8.,  0.,  0.,  5.,  8.,  0.,  0.,  9.,  8.,\n",
       "        0.,  0.,  4., 11.,  0.,  1., 12.,  7.,  0.,  0.,  2., 14.,  5.,\n",
       "       10., 12.,  0.,  0.,  0.,  0.,  6., 13., 10.,  0.,  0.,  0.])"
      ]
     },
     "execution_count": 4,
     "metadata": {},
     "output_type": "execute_result"
    }
   ],
   "source": [
    "digits.data[0]"
   ]
  },
  {
   "cell_type": "code",
   "execution_count": 9,
   "metadata": {},
   "outputs": [
    {
     "data": {
      "text/plain": [
       "LogisticRegression(C=1.0, class_weight=None, dual=False, fit_intercept=True,\n",
       "                   intercept_scaling=1, l1_ratio=None, max_iter=100,\n",
       "                   multi_class='auto', n_jobs=None, penalty='l2',\n",
       "                   random_state=None, solver='lbfgs', tol=0.0001, verbose=0,\n",
       "                   warm_start=False)"
      ]
     },
     "execution_count": 9,
     "metadata": {},
     "output_type": "execute_result"
    }
   ],
   "source": [
    "from sklearn.linear_model import LogisticRegression\n",
    "reg=LogisticRegression()\n",
    "reg"
   ]
  },
  {
   "cell_type": "code",
   "execution_count": 10,
   "metadata": {},
   "outputs": [],
   "source": [
    "from sklearn.model_selection import train_test_split\n",
    "xtrain,xtest,ytrain,ytest=train_test_split(digits.data,digits.target,test_size=0.3)"
   ]
  },
  {
   "cell_type": "code",
   "execution_count": 13,
   "metadata": {},
   "outputs": [
    {
     "name": "stderr",
     "output_type": "stream",
     "text": [
      "C:\\Users\\dell\\anaconda3\\lib\\site-packages\\sklearn\\linear_model\\_logistic.py:940: ConvergenceWarning: lbfgs failed to converge (status=1):\n",
      "STOP: TOTAL NO. of ITERATIONS REACHED LIMIT.\n",
      "\n",
      "Increase the number of iterations (max_iter) or scale the data as shown in:\n",
      "    https://scikit-learn.org/stable/modules/preprocessing.html\n",
      "Please also refer to the documentation for alternative solver options:\n",
      "    https://scikit-learn.org/stable/modules/linear_model.html#logistic-regression\n",
      "  extra_warning_msg=_LOGISTIC_SOLVER_CONVERGENCE_MSG)\n"
     ]
    },
    {
     "data": {
      "text/plain": [
       "LogisticRegression(C=1.0, class_weight=None, dual=False, fit_intercept=True,\n",
       "                   intercept_scaling=1, l1_ratio=None, max_iter=100,\n",
       "                   multi_class='auto', n_jobs=None, penalty='l2',\n",
       "                   random_state=None, solver='lbfgs', tol=0.0001, verbose=0,\n",
       "                   warm_start=False)"
      ]
     },
     "execution_count": 13,
     "metadata": {},
     "output_type": "execute_result"
    }
   ],
   "source": [
    "reg.fit(xtrain,ytrain)"
   ]
  },
  {
   "cell_type": "code",
   "execution_count": 15,
   "metadata": {},
   "outputs": [
    {
     "data": {
      "text/plain": [
       "0.95"
      ]
     },
     "execution_count": 15,
     "metadata": {},
     "output_type": "execute_result"
    }
   ],
   "source": [
    "reg.score(xtest,ytest)"
   ]
  },
  {
   "cell_type": "code",
   "execution_count": 16,
   "metadata": {},
   "outputs": [
    {
     "data": {
      "text/plain": [
       "array([0, 1, 2, 3, 4])"
      ]
     },
     "execution_count": 16,
     "metadata": {},
     "output_type": "execute_result"
    }
   ],
   "source": [
    "reg.predict(digits.data[0:5])"
   ]
  },
  {
   "cell_type": "markdown",
   "metadata": {},
   "source": [
    "### Concept of Confusion Matrix"
   ]
  },
  {
   "cell_type": "code",
   "execution_count": 21,
   "metadata": {},
   "outputs": [
    {
     "data": {
      "text/plain": [
       "array([[ 0.,  4., 15., ...,  0.,  0.,  0.],\n",
       "       [ 0.,  0.,  7., ...,  4.,  0.,  0.],\n",
       "       [ 0.,  1., 12., ..., 14.,  1.,  0.],\n",
       "       ...,\n",
       "       [ 0.,  0.,  7., ...,  5.,  0.,  0.],\n",
       "       [ 0.,  0., 13., ..., 16., 16., 11.],\n",
       "       [ 0.,  0.,  0., ...,  5.,  0.,  0.]])"
      ]
     },
     "execution_count": 21,
     "metadata": {},
     "output_type": "execute_result"
    }
   ],
   "source": [
    "xtest"
   ]
  },
  {
   "cell_type": "code",
   "execution_count": 18,
   "metadata": {},
   "outputs": [
    {
     "data": {
      "text/plain": [
       "array([5, 0, 3, 2, 6, 4, 2, 1, 8, 7, 4, 7, 0, 4, 3, 7, 0, 0, 8, 7, 2, 6,\n",
       "       9, 4, 6, 1, 3, 1, 5, 3, 5, 9, 8, 3, 2, 8, 2, 7, 0, 6, 2, 0, 4, 8,\n",
       "       0, 8, 3, 9, 8, 6, 5, 9, 3, 2, 7, 1, 0, 5, 3, 1, 5, 4, 9, 9, 6, 8,\n",
       "       3, 0, 8, 6, 1, 5, 4, 4, 5, 3, 4, 9, 8, 6, 0, 8, 3, 6, 3, 3, 8, 2,\n",
       "       3, 4, 3, 2, 0, 0, 6, 7, 3, 9, 4, 8, 6, 1, 8, 0, 8, 1, 9, 1, 8, 2,\n",
       "       7, 9, 8, 2, 8, 9, 4, 7, 5, 8, 5, 5, 6, 5, 3, 0, 0, 6, 4, 7, 0, 4,\n",
       "       7, 8, 8, 6, 7, 5, 2, 5, 3, 8, 4, 2, 5, 1, 6, 0, 6, 3, 5, 1, 2, 1,\n",
       "       2, 5, 6, 3, 2, 1, 8, 7, 3, 4, 1, 4, 8, 4, 7, 4, 0, 6, 5, 0, 0, 9,\n",
       "       3, 3, 9, 9, 2, 7, 4, 6, 0, 1, 7, 6, 0, 1, 5, 7, 4, 6, 3, 2, 2, 4,\n",
       "       9, 9, 1, 9, 5, 9, 6, 2, 1, 9, 0, 1, 4, 0, 7, 5, 1, 3, 2, 8, 9, 7,\n",
       "       7, 4, 0, 1, 6, 2, 4, 7, 3, 0, 0, 4, 0, 8, 7, 9, 8, 3, 7, 9, 2, 1,\n",
       "       1, 6, 9, 9, 3, 7, 2, 6, 3, 5, 9, 8, 5, 3, 5, 1, 7, 0, 8, 5, 0, 7,\n",
       "       4, 0, 2, 7, 8, 3, 6, 9, 5, 3, 0, 3, 3, 6, 8, 5, 2, 0, 1, 3, 9, 5,\n",
       "       3, 9, 9, 2, 8, 6, 0, 1, 1, 7, 5, 6, 0, 2, 5, 9, 9, 9, 6, 4, 9, 9,\n",
       "       9, 6, 6, 5, 8, 4, 7, 3, 1, 9, 8, 9, 0, 3, 2, 5, 6, 6, 5, 7, 5, 5,\n",
       "       1, 3, 6, 3, 7, 8, 2, 2, 1, 0, 8, 1, 1, 3, 2, 0, 8, 4, 7, 2, 1, 8,\n",
       "       0, 8, 1, 0, 8, 2, 7, 5, 5, 0, 2, 9, 3, 5, 6, 1, 7, 1, 6, 0, 5, 7,\n",
       "       6, 4, 7, 6, 4, 2, 5, 1, 6, 4, 0, 9, 7, 1, 7, 8, 2, 3, 7, 6, 9, 5,\n",
       "       0, 8, 5, 1, 3, 6, 0, 1, 0, 1, 8, 1, 2, 4, 0, 2, 7, 3, 9, 8, 7, 6,\n",
       "       0, 4, 8, 0, 0, 4, 1, 4, 8, 0, 6, 3, 5, 7, 1, 4, 7, 1, 6, 8, 3, 2,\n",
       "       9, 9, 8, 5, 1, 4, 8, 7, 4, 7, 3, 7, 5, 1, 1, 1, 6, 2, 7, 4, 2, 8,\n",
       "       7, 1, 7, 9, 9, 1, 0, 1, 0, 3, 7, 6, 5, 3, 7, 4, 9, 3, 7, 3, 6, 4,\n",
       "       2, 8, 8, 3, 6, 6, 1, 1, 1, 0, 0, 2, 0, 5, 2, 9, 9, 0, 7, 8, 4, 5,\n",
       "       0, 5, 7, 7, 7, 5, 8, 1, 3, 9, 1, 8, 2, 2, 4, 8, 6, 6, 7, 4, 3, 9,\n",
       "       7, 5, 8, 0, 5, 8, 9, 5, 3, 8, 2, 4])"
      ]
     },
     "execution_count": 18,
     "metadata": {},
     "output_type": "execute_result"
    }
   ],
   "source": [
    "y_pred=reg.predict(xtest)\n",
    "y_pred"
   ]
  },
  {
   "cell_type": "code",
   "execution_count": 19,
   "metadata": {},
   "outputs": [
    {
     "data": {
      "text/plain": [
       "array([[59,  0,  0,  0,  1,  0,  0,  0,  0,  0],\n",
       "       [ 0, 50,  0,  0,  0,  0,  0,  0,  1,  1],\n",
       "       [ 0,  4, 45,  0,  0,  0,  0,  0,  0,  0],\n",
       "       [ 0,  0,  2, 55,  0,  0,  0,  0,  3,  0],\n",
       "       [ 0,  1,  0,  0, 44,  0,  0,  0,  0,  0],\n",
       "       [ 0,  0,  0,  0,  1, 52,  0,  0,  1,  2],\n",
       "       [ 0,  0,  0,  0,  0,  0, 52,  0,  0,  0],\n",
       "       [ 0,  0,  0,  1,  1,  0,  0, 58,  0,  0],\n",
       "       [ 0,  2,  1,  0,  0,  0,  0,  0, 51,  1],\n",
       "       [ 0,  0,  0,  0,  0,  1,  0,  0,  3, 47]], dtype=int64)"
      ]
     },
     "execution_count": 19,
     "metadata": {},
     "output_type": "execute_result"
    }
   ],
   "source": [
    "from sklearn.metrics import confusion_matrix\n",
    "cnf=confusion_matrix(ytest,y_pred)\n",
    "cnf"
   ]
  },
  {
   "cell_type": "code",
   "execution_count": 23,
   "metadata": {},
   "outputs": [
    {
     "data": {
      "text/plain": [
       "Text(33.0, 0.5, 'Truth')"
      ]
     },
     "execution_count": 23,
     "metadata": {},
     "output_type": "execute_result"
    },
    {
     "data": {
      "image/png": "[encoded data removed]",
      "text/plain": [
       "<Figure size 432x288 with 2 Axes>"
      ]
     },
     "metadata": {
      "needs_background": "light"
     },
     "output_type": "display_data"
    }
   ],
   "source": [
    "import seaborn as sn\n",
    "plt.figure()\n",
    "sn.heatmap(cnf, annot=True)\n",
    "plt.xlabel('Predicted',fontsize=20)\n",
    "plt.ylabel('Truth',fontsize=20)"
   ]
  },
  {
   "cell_type": "code",
   "execution_count": null,
   "metadata": {},
   "outputs": [],
   "source": []
  }
 ],
 "metadata": {
  "kernelspec": {
   "display_name": "Python 3",
   "language": "python",
   "name": "python3"
  },
  "language_info": {
   "codemirror_mode": {
    "name": "ipython",
    "version": 3
   },
   "file_extension": ".py",
   "mimetype": "text/x-python",
   "name": "python",
   "nbconvert_exporter": "python",
   "pygments_lexer": "ipython3",
   "version": "3.7.6"
  }
 },
 "nbformat": 4,
 "nbformat_minor": 4
}
